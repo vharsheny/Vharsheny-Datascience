{
 "cells": [
  {
   "cell_type": "code",
   "execution_count": 40,
   "metadata": {
    "colab": {},
    "colab_type": "code",
    "id": "0NurL-52LdWk"
   },
   "outputs": [],
   "source": [
    "%matplotlib inline\n",
    "import numpy as np\n",
    "import pandas as pd\n",
    "from sklearn.utils import resample\n",
    "from sklearn.tree import DecisionTreeClassifier\n",
    "from sklearn.linear_model import LinearRegression\n",
    "from sklearn.linear_model import LogisticRegression\n",
    "from sklearn.naive_bayes import GaussianNB\n",
    "from sklearn.model_selection import train_test_split\n",
    "from sklearn.ensemble import RandomForestClassifier\n",
    "from sklearn.ensemble import BaggingClassifier\n",
    "from sklearn.preprocessing import StandardScaler\n",
    "from sklearn.neighbors import KNeighborsClassifier\n",
    "from sklearn import model_selection\n",
    "from sklearn import metrics\n",
    "from sklearn.decomposition import PCA\n",
    "from scipy.stats import zscore\n",
    "import warnings\n",
    "warnings.filterwarnings('ignore')\n",
    "import matplotlib.pyplot as plt \n",
    "from sklearn.model_selection import train_test_split, GridSearchCV, StratifiedKFold\n",
    "from sklearn.ensemble import AdaBoostClassifier\n",
    "from sklearn.ensemble import BaggingClassifier\n",
    "from sklearn.ensemble import GradientBoostingClassifier\n",
    "from sklearn.ensemble import VotingClassifier"
   ]
  },
  {
   "cell_type": "code",
   "execution_count": 109,
   "metadata": {},
   "outputs": [],
   "source": [
    "#colnames = ['preg', 'glu', 'bp', 'sft', 'ins', 'bmi', 'dpf', 'age', 'outcome']\n",
    "prima_df = pd.read_csv(\"diabetes.csv\")#,names=colnames)"
   ]
  },
  {
   "cell_type": "code",
   "execution_count": 110,
   "metadata": {
    "colab": {},
    "colab_type": "code",
    "id": "79cLsp4rLdXN"
   },
   "outputs": [],
   "source": [
    "X =  prima_df.drop(\"Outcome\", axis=1)\n",
    "Y =  prima_df.Outcome"
   ]
  },
  {
   "cell_type": "code",
   "execution_count": 111,
   "metadata": {},
   "outputs": [
    {
     "name": "stdout",
     "output_type": "stream",
     "text": [
      "<class 'pandas.core.frame.DataFrame'>\n",
      "RangeIndex: 768 entries, 0 to 767\n",
      "Data columns (total 9 columns):\n",
      "Pregnancies                 768 non-null int64\n",
      "Glucose                     768 non-null int64\n",
      "BloodPressure               768 non-null int64\n",
      "SkinThickness               768 non-null int64\n",
      "Insulin                     768 non-null int64\n",
      "BMI                         768 non-null float64\n",
      "DiabetesPedigreeFunction    768 non-null float64\n",
      "Age                         768 non-null int64\n",
      "Outcome                     768 non-null int64\n",
      "dtypes: float64(2), int64(7)\n",
      "memory usage: 54.1 KB\n"
     ]
    }
   ],
   "source": [
    "prima_df.info()"
   ]
  },
  {
   "cell_type": "code",
   "execution_count": 120,
   "metadata": {},
   "outputs": [
    {
     "data": {
      "text/plain": [
       "GridSearchCV(cv=5, error_score='raise-deprecating',\n",
       "       estimator=KNeighborsClassifier(algorithm='auto', leaf_size=30, metric='minkowski',\n",
       "           metric_params=None, n_jobs=None, n_neighbors=5, p=2,\n",
       "           weights='uniform'),\n",
       "       fit_params=None, iid='warn', n_jobs=None,\n",
       "       param_grid={'n_neighbors': array([ 1,  2,  3,  4,  5,  6,  7,  8,  9, 10, 11, 12, 13, 14, 15, 16, 17,\n",
       "       18, 19, 20, 21, 22, 23, 24, 25, 26, 27, 28, 29, 30, 31, 32, 33, 34,\n",
       "       35, 36, 37, 38, 39, 40, 41, 42, 43, 44, 45, 46, 47, 48, 49]), 'weights': ['uniform', 'distance']},\n",
       "       pre_dispatch='2*n_jobs', refit=True, return_train_score='warn',\n",
       "       scoring='recall', verbose=0)"
      ]
     },
     "execution_count": 120,
     "metadata": {},
     "output_type": "execute_result"
    }
   ],
   "source": [
    "knn=KNeighborsClassifier()\n",
    "param={'n_neighbors':np.arange(1,50),'weights':['uniform','distance']}\n",
    "GS=GridSearchCV(knn,param,cv=5,scoring='recall')\n",
    "GS.fit(X,Y)"
   ]
  },
  {
   "cell_type": "code",
   "execution_count": 121,
   "metadata": {},
   "outputs": [
    {
     "data": {
      "text/plain": [
       "{'n_neighbors': 12, 'weights': 'distance'}"
      ]
     },
     "execution_count": 121,
     "metadata": {},
     "output_type": "execute_result"
    }
   ],
   "source": [
    "GS.best_params_"
   ]
  },
  {
   "cell_type": "code",
   "execution_count": 122,
   "metadata": {},
   "outputs": [],
   "source": [
    "KNN=KNeighborsClassifier(n_neighbors=12,weights='distance')"
   ]
  },
  {
   "cell_type": "code",
   "execution_count": 123,
   "metadata": {},
   "outputs": [],
   "source": [
    "from sklearn.ensemble import BaggingClassifier\n",
    "knn_bag=BaggingClassifier(base_estimator=KNN,random_state=0)"
   ]
  },
  {
   "cell_type": "code",
   "execution_count": 124,
   "metadata": {},
   "outputs": [
    {
     "data": {
      "text/plain": [
       "GridSearchCV(cv=KFold(n_splits=5, random_state=0, shuffle=True),\n",
       "       error_score='raise-deprecating',\n",
       "       estimator=BaggingClassifier(base_estimator=KNeighborsClassifier(algorithm='auto', leaf_size=30, metric='minkowski',\n",
       "           metric_params=None, n_jobs=None, n_neighbors=12, p=2,\n",
       "           weights='distance'),\n",
       "         bootstrap=True, bootstrap_features=False, max_features=1.0,\n",
       "         max_samples=1.0, n_estimators=10, n_jobs=None, oob_score=False,\n",
       "         random_state=0, verbose=0, warm_start=False),\n",
       "       fit_params=None, iid='warn', n_jobs=None,\n",
       "       param_grid={'n_estimators': array([ 1,  2, ..., 98, 99])},\n",
       "       pre_dispatch='2*n_jobs', refit=True, return_train_score='warn',\n",
       "       scoring='recall', verbose=0)"
      ]
     },
     "execution_count": 124,
     "metadata": {},
     "output_type": "execute_result"
    }
   ],
   "source": [
    "from sklearn.model_selection import KFold\n",
    "kf=KFold(n_splits=5,shuffle=True,random_state=0)\n",
    "param2={'n_estimators':np.arange(1,100)}\n",
    "GS2=GridSearchCV(knn_bag,param2,cv=kf,scoring='recall')\n",
    "GS2.fit(X,Y)"
   ]
  },
  {
   "cell_type": "code",
   "execution_count": 125,
   "metadata": {},
   "outputs": [
    {
     "data": {
      "text/plain": [
       "{'n_estimators': 80}"
      ]
     },
     "execution_count": 125,
     "metadata": {},
     "output_type": "execute_result"
    }
   ],
   "source": [
    "GS2.best_params_"
   ]
  },
  {
   "cell_type": "code",
   "execution_count": 126,
   "metadata": {},
   "outputs": [],
   "source": [
    "LR=LogisticRegression()"
   ]
  },
  {
   "cell_type": "code",
   "execution_count": 127,
   "metadata": {},
   "outputs": [],
   "source": [
    "LR_bag=BaggingClassifier(base_estimator=LR,random_state=0)"
   ]
  },
  {
   "cell_type": "code",
   "execution_count": 128,
   "metadata": {},
   "outputs": [
    {
     "data": {
      "text/plain": [
       "GridSearchCV(cv=KFold(n_splits=5, random_state=0, shuffle=True),\n",
       "       error_score='raise-deprecating',\n",
       "       estimator=BaggingClassifier(base_estimator=LogisticRegression(C=1.0, class_weight=None, dual=False, fit_intercept=True,\n",
       "          intercept_scaling=1, max_iter=100, multi_class='warn',\n",
       "          n_jobs=None, penalty='l2', random_state=None, solver='warn',\n",
       "          tol=0.0001, verbose=0, warm_start=...n_estimators=10, n_jobs=None, oob_score=False,\n",
       "         random_state=0, verbose=0, warm_start=False),\n",
       "       fit_params=None, iid='warn', n_jobs=None,\n",
       "       param_grid={'n_estimators': array([ 1,  2, ..., 98, 99])},\n",
       "       pre_dispatch='2*n_jobs', refit=True, return_train_score='warn',\n",
       "       scoring='recall', verbose=0)"
      ]
     },
     "execution_count": 128,
     "metadata": {},
     "output_type": "execute_result"
    }
   ],
   "source": [
    "from sklearn.model_selection import KFold\n",
    "kf=KFold(n_splits=5,shuffle=True,random_state=0)\n",
    "param2={'n_estimators':np.arange(1,100)}\n",
    "GS2=GridSearchCV(LR_bag,param2,cv=kf,scoring='recall')\n",
    "GS2.fit(X,Y)"
   ]
  },
  {
   "cell_type": "code",
   "execution_count": 129,
   "metadata": {},
   "outputs": [
    {
     "data": {
      "text/plain": [
       "{'n_estimators': 69}"
      ]
     },
     "execution_count": 129,
     "metadata": {},
     "output_type": "execute_result"
    }
   ],
   "source": [
    "GS2.best_params_"
   ]
  },
  {
   "cell_type": "code",
   "execution_count": 130,
   "metadata": {},
   "outputs": [],
   "source": [
    "NB=GaussianNB()"
   ]
  },
  {
   "cell_type": "code",
   "execution_count": 131,
   "metadata": {},
   "outputs": [],
   "source": [
    "NB_bag=BaggingClassifier(base_estimator=NB,n_estimators=10,random_state=0)"
   ]
  },
  {
   "cell_type": "code",
   "execution_count": 132,
   "metadata": {},
   "outputs": [
    {
     "data": {
      "text/plain": [
       "GridSearchCV(cv=KFold(n_splits=5, random_state=0, shuffle=True),\n",
       "       error_score='raise-deprecating',\n",
       "       estimator=BaggingClassifier(base_estimator=GaussianNB(priors=None, var_smoothing=1e-09),\n",
       "         bootstrap=True, bootstrap_features=False, max_features=1.0,\n",
       "         max_samples=1.0, n_estimators=10, n_jobs=None, oob_score=False,\n",
       "         random_state=0, verbose=0, warm_start=False),\n",
       "       fit_params=None, iid='warn', n_jobs=None,\n",
       "       param_grid={'n_estimators': array([ 1,  2, ..., 98, 99])},\n",
       "       pre_dispatch='2*n_jobs', refit=True, return_train_score='warn',\n",
       "       scoring='recall', verbose=0)"
      ]
     },
     "execution_count": 132,
     "metadata": {},
     "output_type": "execute_result"
    }
   ],
   "source": [
    "from sklearn.model_selection import KFold\n",
    "kf=KFold(n_splits=5,shuffle=True,random_state=0)\n",
    "param2={'n_estimators':np.arange(1,100)}\n",
    "GS2=GridSearchCV(NB_bag,param2,cv=kf,scoring='recall')\n",
    "GS2.fit(X,Y)"
   ]
  },
  {
   "cell_type": "code",
   "execution_count": 133,
   "metadata": {},
   "outputs": [
    {
     "data": {
      "text/plain": [
       "{'n_estimators': 1}"
      ]
     },
     "execution_count": 133,
     "metadata": {},
     "output_type": "execute_result"
    }
   ],
   "source": [
    "GS2.best_params_"
   ]
  },
  {
   "cell_type": "code",
   "execution_count": 139,
   "metadata": {},
   "outputs": [
    {
     "data": {
      "text/plain": [
       "DecisionTreeClassifier(class_weight=None, criterion='entropy', max_depth=4,\n",
       "            max_features=None, max_leaf_nodes=None,\n",
       "            min_impurity_decrease=0.0, min_impurity_split=None,\n",
       "            min_samples_leaf=1, min_samples_split=2,\n",
       "            min_weight_fraction_leaf=0.0, presort=False, random_state=0,\n",
       "            splitter='best')"
      ]
     },
     "execution_count": 139,
     "metadata": {},
     "output_type": "execute_result"
    }
   ],
   "source": [
    "Dt_model2=DecisionTreeClassifier(criterion = 'entropy',max_depth=4,random_state=0)\n",
    "Dt_model2.fit(Xtrain,Ytrain)"
   ]
  },
  {
   "cell_type": "code",
   "execution_count": 140,
   "metadata": {},
   "outputs": [],
   "source": [
    "ypred2=model2.predict(Xtest)"
   ]
  },
  {
   "cell_type": "code",
   "execution_count": 58,
   "metadata": {
    "colab": {},
    "colab_type": "code",
    "id": "K7iBVzroLdXd"
   },
   "outputs": [],
   "source": [
    "Dt_model=DecisionTreeClassifier(criterion='entropy',random_state=0)#fully grown tree (high bias error and var error)"
   ]
  },
  {
   "cell_type": "code",
   "execution_count": 83,
   "metadata": {
    "colab": {},
    "colab_type": "code",
    "id": "oDZ8zy9MLdXq"
   },
   "outputs": [
    {
     "data": {
      "text/plain": [
       "DecisionTreeClassifier(class_weight=None, criterion='entropy', max_depth=4,\n",
       "            max_features=None, max_leaf_nodes=None,\n",
       "            min_impurity_decrease=0.0, min_impurity_split=None,\n",
       "            min_samples_leaf=1, min_samples_split=2,\n",
       "            min_weight_fraction_leaf=0.0, presort=False, random_state=0,\n",
       "            splitter='best')"
      ]
     },
     "execution_count": 83,
     "metadata": {},
     "output_type": "execute_result"
    }
   ],
   "source": [
    "Dt_model2=DecisionTreeClassifier(max_depth=4,criterion='entropy',random_state=0)\n",
    "Dt_model2.fit(Xtrain,Ytrain)"
   ]
  },
  {
   "cell_type": "code",
   "execution_count": 81,
   "metadata": {
    "colab": {},
    "colab_type": "code",
    "id": "BbkUOYVaLdX0"
   },
   "outputs": [],
   "source": [
    "#Bootstrapped sampled multiple decision tree(with the hope of controlling bias error)\n",
    "Rf_model = RandomForestClassifier(n_estimators=51,criterion='entropy',random_state=0 )"
   ]
  },
  {
   "cell_type": "code",
   "execution_count": 61,
   "metadata": {},
   "outputs": [],
   "source": [
    "bag_model = BaggingClassifier(n_estimators=10,random_state=10)"
   ]
  },
  {
   "cell_type": "code",
   "execution_count": 62,
   "metadata": {},
   "outputs": [],
   "source": [
    "param={'n_n'}"
   ]
  },
  {
   "cell_type": "code",
   "execution_count": 63,
   "metadata": {
    "colab": {},
    "colab_type": "code",
    "id": "CE7ME_7sLdX_"
   },
   "outputs": [],
   "source": [
    "models = []\n",
    "models.append(('DecisionTree', Dt_model))\n",
    "models.append(('Dt Regularized', Dt_model2))\n",
    "models.append(('RandomForest', Rf_model))\n",
    "models.append(('Bagged DT', bag_model))\n",
    "models.append(('LR BAG', LR_bag))\n",
    "models.append(('Bagged DT', bag_model))\n"
   ]
  },
  {
   "cell_type": "code",
   "execution_count": 64,
   "metadata": {
    "colab": {
     "base_uri": "https://localhost:8080/",
     "height": 329
    },
    "colab_type": "code",
    "executionInfo": {
     "elapsed": 1718,
     "status": "ok",
     "timestamp": 1558759689032,
     "user": {
      "displayName": "Mahesh Anand",
      "photoUrl": "https://lh3.googleusercontent.com/-qzo_AFAl02k/AAAAAAAAAAI/AAAAAAAAABY/Ywj2vXZmRw4/s64/photo.jpg",
      "userId": "06788086636039591358"
     },
     "user_tz": -330
    },
    "id": "z9qfkjHyLdYJ",
    "outputId": "e988db37-56be-4f59-bc8a-2546f1bf76f9"
   },
   "outputs": [
    {
     "name": "stdout",
     "output_type": "stream",
     "text": [
      "DecisionTree: 0.562904 (0.004411)\n",
      "Dt Regularized: 0.647672 (0.005292)\n",
      "RandomForest: 0.615826 (0.001247)\n",
      "Bagged DT: 0.571147 (0.008071)\n",
      "LR BAG: 0.544196 (0.002432)\n",
      "Bagged DT: 0.571147 (0.008071)\n"
     ]
    },
    {
     "data": {
      "image/png": "[encoded data removed]",
      "text/plain": [
       "<Figure size 432x288 with 1 Axes>"
      ]
     },
     "metadata": {
      "needs_background": "light"
     },
     "output_type": "display_data"
    }
   ],
   "source": [
    "# evaluate each model in turn\n",
    "results = []\n",
    "names = []\n",
    "scoring = 'recall'\n",
    "for name, model in models:\n",
    "\tkfold = model_selection.KFold(n_splits=5,random_state=2)\n",
    "\tcv_results = model_selection.cross_val_score(model, X,Y, cv=kfold, scoring=scoring)\n",
    "\tresults.append(cv_results)\n",
    "\tnames.append(name)\n",
    "\tmsg = \"%s: %f (%f)\" % (name, np.mean(cv_results), cv_results.var())\n",
    "\tprint(msg)\n",
    "# boxplot algorithm comparison\n",
    "fig = plt.figure()\n",
    "fig.suptitle('Algorithm Comparison')\n",
    "ax = fig.add_subplot(111)\n",
    "plt.boxplot(results)\n",
    "ax.set_xticklabels(names)\n",
    "plt.show()"
   ]
  },
  {
   "cell_type": "code",
   "execution_count": 65,
   "metadata": {},
   "outputs": [
    {
     "data": {
      "text/plain": [
       "['DecisionTree',\n",
       " 'Dt Regularized',\n",
       " 'RandomForest',\n",
       " 'Bagged DT',\n",
       " 'LR BAG',\n",
       " 'Bagged DT']"
      ]
     },
     "execution_count": 65,
     "metadata": {},
     "output_type": "execute_result"
    }
   ],
   "source": [
    "names"
   ]
  },
  {
   "cell_type": "code",
   "execution_count": 66,
   "metadata": {
    "colab": {
     "base_uri": "https://localhost:8080/",
     "height": 52
    },
    "colab_type": "code",
    "executionInfo": {
     "elapsed": 977,
     "status": "ok",
     "timestamp": 1558759694953,
     "user": {
      "displayName": "Mahesh Anand",
      "photoUrl": "https://lh3.googleusercontent.com/-qzo_AFAl02k/AAAAAAAAAAI/AAAAAAAAABY/Ywj2vXZmRw4/s64/photo.jpg",
      "userId": "06788086636039591358"
     },
     "user_tz": -330
    },
    "id": "S5ulPGFlLdYW",
    "outputId": "319ebc7d-7181-4d9e-a381-3095c5d69144"
   },
   "outputs": [
    {
     "data": {
      "text/plain": [
       "[array([0.5       , 0.65625   , 0.56140351, 0.61538462, 0.48148148]),\n",
       " array([0.62962963, 0.625     , 0.75438596, 0.69230769, 0.53703704]),\n",
       " array([0.64814815, 0.59375   , 0.59649123, 0.66666667, 0.57407407]),\n",
       " array([0.48148148, 0.53125   , 0.54385965, 0.74358974, 0.55555556]),\n",
       " array([0.53703704, 0.515625  , 0.50877193, 0.64102564, 0.51851852]),\n",
       " array([0.48148148, 0.53125   , 0.54385965, 0.74358974, 0.55555556])]"
      ]
     },
     "execution_count": 66,
     "metadata": {},
     "output_type": "execute_result"
    }
   ],
   "source": [
    "results"
   ]
  },
  {
   "cell_type": "code",
   "execution_count": null,
   "metadata": {},
   "outputs": [],
   "source": []
  },
  {
   "cell_type": "code",
   "execution_count": null,
   "metadata": {},
   "outputs": [],
   "source": []
  },
  {
   "cell_type": "code",
   "execution_count": 67,
   "metadata": {},
   "outputs": [
    {
     "data": {
      "text/plain": [
       "0.08593661196506809"
      ]
     },
     "execution_count": 67,
     "metadata": {},
     "output_type": "execute_result"
    }
   ],
   "source": [
    "#bias error extent:\n",
    "(0.615826 - 0.562904) / 0.615826"
   ]
  },
  {
   "cell_type": "code",
   "execution_count": 68,
   "metadata": {},
   "outputs": [
    {
     "data": {
      "text/plain": [
       "0.7172976649285877"
      ]
     },
     "execution_count": 68,
     "metadata": {},
     "output_type": "execute_result"
    }
   ],
   "source": [
    "#variance error extent:\n",
    "(0.004411 - 0.001247)/0.004411"
   ]
  },
  {
   "cell_type": "raw",
   "metadata": {},
   "source": [
    "here bagging controls both bias and variance error but the thing is it controls the variance error to a greater extent"
   ]
  },
  {
   "cell_type": "code",
   "execution_count": 69,
   "metadata": {},
   "outputs": [],
   "source": [
    "\n",
    "LR = LogisticRegression()\n",
    "NB = GaussianNB()\n",
    "LR_bag=BaggingClassifier(base_estimator=LR,n_estimators=15,random_state=0)\n",
    "NB_bag=BaggingClassifier(base_estimator=NB,n_estimators=10,random_state=0)\n",
    "KNN = KNeighborsClassifier(n_neighbors = 12,weights='distance')\n",
    "knn_bag=BaggingClassifier(base_estimator=KNN,n_estimators=880,random_state=0)\n",
    "DT_reg = DecisionTreeClassifier(max_depth=5,criterion='entropy',random_state=0)\n",
    "bag_DT = BaggingClassifier(n_estimators=10,random_state=0)\n",
    "RF = RandomForestClassifier(n_estimators=51,criterion='entropy',random_state=0 )\n",
    "#boosting\n",
    "LR_boost=AdaBoostClassifier(base_estimator=LR,n_estimators=170)\n",
    "NB_boost=AdaBoostClassifier(base_estimator=NB,n_estimators=250)\n",
    "RF_boost=AdaBoostClassifier(base_estimator=RF,n_estimators=50)\n",
    "DT_boost=AdaBoostClassifier(n_estimators=50)\n",
    "GB_boost=GradientBoostingClassifier(n_estimators=100)"
   ]
  },
  {
   "cell_type": "code",
   "execution_count": 71,
   "metadata": {},
   "outputs": [
    {
     "name": "stdout",
     "output_type": "stream",
     "text": [
      "AUC scores: 0.71(+/- 0.00138)[LR]\n",
      "AUC scores: 0.70(+/- 0.00201)[LR_boost]\n",
      "AUC scores: 0.72(+/- 0.00219)[NB]\n",
      "AUC scores: 0.56(+/- 0.00325)[NB_boost]\n",
      "AUC scores: 0.70(+/- 0.00130)[DT_boost]\n",
      "AUC scores: 0.70(+/- 0.00229)[RF]\n",
      "AUC scores: 0.70(+/- 0.00024)[RF_boost]\n",
      "AUC scores: 0.70(+/- 0.00062)[GB_boost]\n"
     ]
    }
   ],
   "source": [
    "from sklearn.model_selection import KFold\n",
    "from sklearn.metrics import roc_curve, auc\n",
    "kf = KFold(n_splits=5,shuffle=True,random_state=2)\n",
    "for model, name in zip([LR,LR_boost,NB,NB_boost,KNN,DT_boost,RF,RF_boost,GB_boost],\n",
    "                       ['LR','LR_boost','NB','NB_boost','DT_boost','RF','RF_boost','GB_boost']):\n",
    "    roc_auc = []\n",
    "    for train,test in kf.split(X,Y):\n",
    "        Xtrain,Xtest=X.iloc[train,:],X.iloc[test,:]\n",
    "        Ytrain,Ytest=Y[train],Y[test]\n",
    "        model.fit(Xtrain,Ytrain)\n",
    "        Y_predict=model.predict(Xtest)\n",
    "        fpr,tpr,_ = roc_curve(Ytest,Y_predict)\n",
    "        roc_auc.append(auc(fpr,tpr))\n",
    "    print(\"AUC scores: %0.02f(+/- %0.5f)[%s]\" %(np.mean(roc_auc),np.var(roc_auc,ddof=1),name))"
   ]
  },
  {
   "cell_type": "code",
   "execution_count": 72,
   "metadata": {},
   "outputs": [
    {
     "name": "stdout",
     "output_type": "stream",
     "text": [
      "AUC scores: 0.71(+/- 0.00138)[LR]\n",
      "AUC scores: 0.71(+/- 0.00206)[LR_bag]\n",
      "AUC scores: 0.72(+/- 0.00219)[NB]\n",
      "AUC scores: 0.71(+/- 0.00269)[NB_bag]\n",
      "AUC scores: 0.70(+/- 0.00130)[KNN]\n",
      "AUC scores: 0.70(+/- 0.00112)[knn_bag]\n",
      "AUC scores: 0.72(+/- 0.00259)[DT_reg]\n",
      "AUC scores: 0.69(+/- 0.00059)[bag_DT]\n",
      "AUC scores: 0.70(+/- 0.00024)[RF]\n"
     ]
    }
   ],
   "source": [
    "from sklearn.metrics import roc_curve, auc\n",
    "kf = KFold(n_splits=5,shuffle=True,random_state=2)\n",
    "for model, name in zip([LR,LR_bag,NB,NB_bag,KNN,knn_bag,DT_reg,bag_DT,RF],\n",
    "                       ['LR','LR_bag','NB','NB_bag','KNN','knn_bag','DT_reg','bag_DT','RF']):\n",
    "    roc_auc = []\n",
    "    for train,test in kf.split(X,Y):\n",
    "        Xtrain,Xtest=X.iloc[train,:],X.iloc[test,:]\n",
    "        Ytrain,Ytest=Y[train],Y[test]\n",
    "        model.fit(Xtrain,Ytrain)\n",
    "        Y_predict=model.predict(Xtest)\n",
    "        fpr,tpr,_ = roc_curve(Ytest,Y_predict)\n",
    "        roc_auc.append(auc(fpr,tpr))\n",
    "    print(\"AUC scores: %0.02f(+/- %0.5f)[%s]\" %(np.mean(roc_auc),np.var(roc_auc,ddof=1),name))"
   ]
  },
  {
   "cell_type": "code",
   "execution_count": 73,
   "metadata": {},
   "outputs": [],
   "source": [
    "stacked=VotingClassifier(estimators=[('Bagged_LR',LR_bag),('BoostedRF',RF_boost),('GB_Boost',GB_boost)],voting='soft')"
   ]
  },
  {
   "cell_type": "code",
   "execution_count": 74,
   "metadata": {},
   "outputs": [
    {
     "name": "stdout",
     "output_type": "stream",
     "text": [
      "AUC scores: 0.71(+/- 0.00138)[LR]\n",
      "AUC scores: 0.71(+/- 0.00206)[LR_bag]\n",
      "AUC scores: 0.72(+/- 0.00219)[NB]\n",
      "AUC scores: 0.71(+/- 0.00269)[NB_bag]\n",
      "AUC scores: 0.70(+/- 0.00130)[KNN]\n",
      "AUC scores: 0.70(+/- 0.00112)[knn_bag]\n",
      "AUC scores: 0.72(+/- 0.00259)[DT_reg]\n",
      "AUC scores: 0.69(+/- 0.00059)[bag_DT]\n",
      "AUC scores: 0.70(+/- 0.00024)[RF]\n",
      "AUC scores: 0.72(+/- 0.00233)[Stacked]\n"
     ]
    }
   ],
   "source": [
    "from sklearn.metrics import roc_curve, auc\n",
    "kf = KFold(n_splits=5,shuffle=True,random_state=2)\n",
    "for model, name in zip([LR,LR_bag,NB,NB_bag,KNN,knn_bag,DT_reg,bag_DT,RF,stacked],\n",
    "                       ['LR','LR_bag','NB','NB_bag','KNN','knn_bag','DT_reg','bag_DT','RF','Stacked']):\n",
    "    roc_auc = []\n",
    "    for train,test in kf.split(X,Y):\n",
    "        Xtrain,Xtest=X.iloc[train,:],X.iloc[test,:]\n",
    "        Ytrain,Ytest=Y[train],Y[test]\n",
    "        model.fit(Xtrain,Ytrain)\n",
    "        Y_predict=model.predict(Xtest)\n",
    "        fpr,tpr,_ = roc_curve(Ytest,Y_predict)\n",
    "        roc_auc.append(auc(fpr,tpr))\n",
    "    print(\"AUC scores: %0.02f(+/- %0.5f)[%s]\" %(np.mean(roc_auc),np.var(roc_auc,ddof=1),name))"
   ]
  },
  {
   "cell_type": "code",
   "execution_count": 75,
   "metadata": {},
   "outputs": [],
   "source": [
    "stacked=VotingClassifier(estimators=[('Bagged_LR',LR_bag),('BoostedRF',RF_boost),('GB_Boost',GB_boost)],voting='hard')"
   ]
  },
  {
   "cell_type": "code",
   "execution_count": 76,
   "metadata": {},
   "outputs": [
    {
     "name": "stdout",
     "output_type": "stream",
     "text": [
      "AUC scores: 0.71(+/- 0.00138)[LR]\n",
      "AUC scores: 0.71(+/- 0.00206)[LR_bag]\n",
      "AUC scores: 0.72(+/- 0.00219)[NB]\n",
      "AUC scores: 0.71(+/- 0.00269)[NB_bag]\n",
      "AUC scores: 0.70(+/- 0.00130)[KNN]\n",
      "AUC scores: 0.70(+/- 0.00112)[knn_bag]\n",
      "AUC scores: 0.72(+/- 0.00259)[DT_reg]\n",
      "AUC scores: 0.69(+/- 0.00059)[bag_DT]\n",
      "AUC scores: 0.70(+/- 0.00024)[RF]\n",
      "AUC scores: 0.71(+/- 0.00150)[Stacked]\n"
     ]
    }
   ],
   "source": [
    "from sklearn.metrics import roc_curve, auc\n",
    "kf = KFold(n_splits=5,shuffle=True,random_state=2)\n",
    "for model, name in zip([LR,LR_bag,NB,NB_bag,KNN,knn_bag,DT_reg,bag_DT,RF,stacked],\n",
    "                       ['LR','LR_bag','NB','NB_bag','KNN','knn_bag','DT_reg','bag_DT','RF','Stacked']):\n",
    "    roc_auc = []\n",
    "    for train,test in kf.split(X,Y):\n",
    "        Xtrain,Xtest=X.iloc[train,:],X.iloc[test,:]\n",
    "        Ytrain,Ytest=Y[train],Y[test]\n",
    "        model.fit(Xtrain,Ytrain)\n",
    "        Y_predict=model.predict(Xtest)\n",
    "        fpr,tpr,_ = roc_curve(Ytest,Y_predict)\n",
    "        roc_auc.append(auc(fpr,tpr))\n",
    "    print(\"AUC scores: %0.02f(+/- %0.5f)[%s]\" %(np.mean(roc_auc),np.var(roc_auc,ddof=1),name))"
   ]
  }
 ],
 "metadata": {
  "colab": {
   "collapsed_sections": [],
   "name": "Diabetes_Random_Forest_with_DT_comparison.ipynb",
   "provenance": [],
   "version": "0.3.2"
  },
  "kernelspec": {
   "display_name": "Python 3",
   "language": "python",
   "name": "python3"
  },
  "language_info": {
   "codemirror_mode": {
    "name": "ipython",
    "version": 3
   },
   "file_extension": ".py",
   "mimetype": "text/x-python",
   "name": "python",
   "nbconvert_exporter": "python",
   "pygments_lexer": "ipython3",
   "version": "3.7.1"
  }
 },
 "nbformat": 4,
 "nbformat_minor": 1
}
